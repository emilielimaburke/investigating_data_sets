{
 "cells": [
  {
   "cell_type": "markdown",
   "metadata": {},
   "source": [
    "# Project: Investigating a Healthcare Dataset from Kaggle\n",
    "\n",
    "Data Source --> https://www.kaggle.com/joniarroba/noshowappointments/data\n",
    "\n",
    "## Table of Contents\n",
    "<ul>\n",
    "<li><a href=\"#intro\">Introduction</a></li>\n",
    "<li><a href=\"#wrangling\">Data Wrangling</a></li>\n",
    "<li><a href=\"#eda\">Exploratory Data Analysis</a></li>\n",
    "<li><a href=\"#conclusions\">Conclusions</a></li>\n",
    "</ul>"
   ]
  },
  {
   "cell_type": "markdown",
   "metadata": {},
   "source": [
    "<a id='intro'></a>\n",
    "## Introduction"
   ]
  },
  {
   "cell_type": "code",
   "execution_count": 6,
   "metadata": {
    "collapsed": true
   },
   "outputs": [],
   "source": [
    "import pandas as pd\n",
    "import seaborn as sns\n",
    "import datetime\n",
    "sns.set(style=\"darkgrid\")\n",
    "import numpy as np\n",
    "import matplotlib as mp\n",
    "%matplotlib inline\n",
    "import datetime as dt\n",
    "import pylab\n",
    "\n",
    "df = pd.read_csv('noshowappointments-kagglev2-may-2016.csv')\n",
    "df.head()\n",
    "df_orig = pd.read_csv('noshowappointments-kagglev2-may-2016.csv')"
   ]
  },
  {
   "cell_type": "markdown",
   "metadata": {},
   "source": [
    "<a id='wrangling'></a>\n",
    "## Data Wrangling\n",
    "\n",
    "### General Properties"
   ]
  },
  {
   "cell_type": "code",
   "execution_count": 7,
   "metadata": {
    "scrolled": true
   },
   "outputs": [
    {
     "name": "stdout",
     "output_type": "stream",
     "text": [
      "<class 'pandas.core.frame.DataFrame'>\n",
      "RangeIndex: 110527 entries, 0 to 110526\n",
      "Data columns (total 14 columns):\n",
      "PatientId         110527 non-null float64\n",
      "AppointmentID     110527 non-null int64\n",
      "Gender            110527 non-null object\n",
      "ScheduledDay      110527 non-null object\n",
      "AppointmentDay    110527 non-null object\n",
      "Age               110527 non-null int64\n",
      "Neighbourhood     110527 non-null object\n",
      "Scholarship       110527 non-null int64\n",
      "Hipertension      110527 non-null int64\n",
      "Diabetes          110527 non-null int64\n",
      "Alcoholism        110527 non-null int64\n",
      "Handcap           110527 non-null int64\n",
      "SMS_received      110527 non-null int64\n",
      "No-show           110527 non-null object\n",
      "dtypes: float64(1), int64(8), object(5)\n",
      "memory usage: 11.8+ MB\n"
     ]
    }
   ],
   "source": [
    "df.info()"
   ]
  },
  {
   "cell_type": "markdown",
   "metadata": {},
   "source": [
    "There is no missing data. The `ScheduledDay` and `AppointmentDay` columns are objects and could be converted to datetime types. The `No-show` columns could be turned into a dummy variable instead of as a `yes/no` metric to match the other variables. "
   ]
  },
  {
   "cell_type": "markdown",
   "metadata": {},
   "source": [
    "### Data Cleaning "
   ]
  },
  {
   "cell_type": "code",
   "execution_count": 8,
   "metadata": {
    "collapsed": true
   },
   "outputs": [],
   "source": [
    "df['patientid'] = df['PatientId'].astype('int64')\n",
    "df['apptid'] = df['AppointmentID'].astype('int64')\n",
    "df['gender'] = df['Gender']\n",
    "df['scheduledday'] = pd.to_datetime(df['ScheduledDay'])\n",
    "df['appointmentday'] = pd.to_datetime(df['AppointmentDay'])\n",
    "df['age'] = df['Age']\n",
    "df['neighborhood'] = df['Neighbourhood']\n",
    "df['scholarship'] = df['Scholarship'].astype('bool')\n",
    "df['hypertension'] = df['Hipertension'].astype('bool')\n",
    "df['diabetes'] = df['Diabetes'].astype('bool')\n",
    "df['alcoholism'] = df['Alcoholism'].astype('bool')\n",
    "df['handicap'] = df['Handcap'].astype('bool')\n",
    "df['sms_received'] = df['SMS_received'].astype('bool')\n",
    "df['show'] = df['No-show']"
   ]
  },
  {
   "cell_type": "code",
   "execution_count": 9,
   "metadata": {},
   "outputs": [
    {
     "name": "stdout",
     "output_type": "stream",
     "text": [
      "<class 'pandas.core.frame.DataFrame'>\n",
      "RangeIndex: 110527 entries, 0 to 110526\n",
      "Data columns (total 14 columns):\n",
      "patientid         110527 non-null int64\n",
      "apptid            110527 non-null int64\n",
      "gender            110527 non-null object\n",
      "scheduledday      110527 non-null datetime64[ns]\n",
      "appointmentday    110527 non-null datetime64[ns]\n",
      "age               110527 non-null int64\n",
      "neighborhood      110527 non-null object\n",
      "scholarship       110527 non-null bool\n",
      "hypertension      110527 non-null bool\n",
      "diabetes          110527 non-null bool\n",
      "alcoholism        110527 non-null bool\n",
      "handicap          110527 non-null bool\n",
      "sms_received      110527 non-null bool\n",
      "show              110527 non-null object\n",
      "dtypes: bool(6), datetime64[ns](2), int64(3), object(3)\n",
      "memory usage: 7.4+ MB\n"
     ]
    },
    {
     "data": {
      "text/html": [
       "<div>\n",
       "<style>\n",
       "    .dataframe thead tr:only-child th {\n",
       "        text-align: right;\n",
       "    }\n",
       "\n",
       "    .dataframe thead th {\n",
       "        text-align: left;\n",
       "    }\n",
       "\n",
       "    .dataframe tbody tr th {\n",
       "        vertical-align: top;\n",
       "    }\n",
       "</style>\n",
       "<table border=\"1\" class=\"dataframe\">\n",
       "  <thead>\n",
       "    <tr style=\"text-align: right;\">\n",
       "      <th></th>\n",
       "      <th>patientid</th>\n",
       "      <th>apptid</th>\n",
       "      <th>gender</th>\n",
       "      <th>scheduledday</th>\n",
       "      <th>appointmentday</th>\n",
       "      <th>age</th>\n",
       "      <th>neighborhood</th>\n",
       "      <th>scholarship</th>\n",
       "      <th>hypertension</th>\n",
       "      <th>diabetes</th>\n",
       "      <th>alcoholism</th>\n",
       "      <th>handicap</th>\n",
       "      <th>sms_received</th>\n",
       "      <th>show</th>\n",
       "    </tr>\n",
       "  </thead>\n",
       "  <tbody>\n",
       "    <tr>\n",
       "      <th>0</th>\n",
       "      <td>29872499824296</td>\n",
       "      <td>5642903</td>\n",
       "      <td>F</td>\n",
       "      <td>2016-04-29 18:38:08</td>\n",
       "      <td>2016-04-29</td>\n",
       "      <td>62</td>\n",
       "      <td>JARDIM DA PENHA</td>\n",
       "      <td>False</td>\n",
       "      <td>True</td>\n",
       "      <td>False</td>\n",
       "      <td>False</td>\n",
       "      <td>False</td>\n",
       "      <td>False</td>\n",
       "      <td>No</td>\n",
       "    </tr>\n",
       "    <tr>\n",
       "      <th>1</th>\n",
       "      <td>558997776694438</td>\n",
       "      <td>5642503</td>\n",
       "      <td>M</td>\n",
       "      <td>2016-04-29 16:08:27</td>\n",
       "      <td>2016-04-29</td>\n",
       "      <td>56</td>\n",
       "      <td>JARDIM DA PENHA</td>\n",
       "      <td>False</td>\n",
       "      <td>False</td>\n",
       "      <td>False</td>\n",
       "      <td>False</td>\n",
       "      <td>False</td>\n",
       "      <td>False</td>\n",
       "      <td>No</td>\n",
       "    </tr>\n",
       "    <tr>\n",
       "      <th>2</th>\n",
       "      <td>4262962299951</td>\n",
       "      <td>5642549</td>\n",
       "      <td>F</td>\n",
       "      <td>2016-04-29 16:19:04</td>\n",
       "      <td>2016-04-29</td>\n",
       "      <td>62</td>\n",
       "      <td>MATA DA PRAIA</td>\n",
       "      <td>False</td>\n",
       "      <td>False</td>\n",
       "      <td>False</td>\n",
       "      <td>False</td>\n",
       "      <td>False</td>\n",
       "      <td>False</td>\n",
       "      <td>No</td>\n",
       "    </tr>\n",
       "    <tr>\n",
       "      <th>3</th>\n",
       "      <td>867951213174</td>\n",
       "      <td>5642828</td>\n",
       "      <td>F</td>\n",
       "      <td>2016-04-29 17:29:31</td>\n",
       "      <td>2016-04-29</td>\n",
       "      <td>8</td>\n",
       "      <td>PONTAL DE CAMBURI</td>\n",
       "      <td>False</td>\n",
       "      <td>False</td>\n",
       "      <td>False</td>\n",
       "      <td>False</td>\n",
       "      <td>False</td>\n",
       "      <td>False</td>\n",
       "      <td>No</td>\n",
       "    </tr>\n",
       "    <tr>\n",
       "      <th>4</th>\n",
       "      <td>8841186448183</td>\n",
       "      <td>5642494</td>\n",
       "      <td>F</td>\n",
       "      <td>2016-04-29 16:07:23</td>\n",
       "      <td>2016-04-29</td>\n",
       "      <td>56</td>\n",
       "      <td>JARDIM DA PENHA</td>\n",
       "      <td>False</td>\n",
       "      <td>True</td>\n",
       "      <td>True</td>\n",
       "      <td>False</td>\n",
       "      <td>False</td>\n",
       "      <td>False</td>\n",
       "      <td>No</td>\n",
       "    </tr>\n",
       "  </tbody>\n",
       "</table>\n",
       "</div>"
      ],
      "text/plain": [
       "         patientid   apptid gender        scheduledday appointmentday  age  \\\n",
       "0   29872499824296  5642903      F 2016-04-29 18:38:08     2016-04-29   62   \n",
       "1  558997776694438  5642503      M 2016-04-29 16:08:27     2016-04-29   56   \n",
       "2    4262962299951  5642549      F 2016-04-29 16:19:04     2016-04-29   62   \n",
       "3     867951213174  5642828      F 2016-04-29 17:29:31     2016-04-29    8   \n",
       "4    8841186448183  5642494      F 2016-04-29 16:07:23     2016-04-29   56   \n",
       "\n",
       "        neighborhood  scholarship  hypertension  diabetes  alcoholism  \\\n",
       "0    JARDIM DA PENHA        False          True     False       False   \n",
       "1    JARDIM DA PENHA        False         False     False       False   \n",
       "2      MATA DA PRAIA        False         False     False       False   \n",
       "3  PONTAL DE CAMBURI        False         False     False       False   \n",
       "4    JARDIM DA PENHA        False          True      True       False   \n",
       "\n",
       "   handicap  sms_received show  \n",
       "0     False         False   No  \n",
       "1     False         False   No  \n",
       "2     False         False   No  \n",
       "3     False         False   No  \n",
       "4     False         False   No  "
      ]
     },
     "execution_count": 9,
     "metadata": {},
     "output_type": "execute_result"
    }
   ],
   "source": [
    "df = df.drop(['PatientId', 'AppointmentID', 'Gender', 'ScheduledDay', 'AppointmentDay', 'Age', 'Neighbourhood', 'Scholarship',\n",
    "        'Hipertension', 'Diabetes', 'Alcoholism', 'Handcap', 'SMS_received', 'No-show'], axis=1)\n",
    "df.info()\n",
    "df.head()"
   ]
  },
  {
   "cell_type": "markdown",
   "metadata": {},
   "source": [
    "<a id='eda'></a>\n",
    "## Exploratory Data Analysis\n",
    "\n",
    "What factors are important for us to know in order to predict if a patient will show up for their scheduled appointment?\n",
    "\n",
    "### Research Question 1: What is the appointment scheduling threshold that will make it most likely to their appointments for Bolsa Familia Families?"
   ]
  },
  {
   "cell_type": "code",
   "execution_count": 10,
   "metadata": {
    "collapsed": true
   },
   "outputs": [],
   "source": [
    "# Creating date diff to make it clear how many days there are betweeen when the appointment was scheduled and the appointment date.\n",
    "df = df\n",
    "df['scheduledday1'] = df['scheduledday'].dt.date\n",
    "df['appointmentday1'] = df['appointmentday'].dt.date\n",
    "df['date_diff'] = (df['appointmentday1'] - df['scheduledday1']).astype('timedelta64[D]')"
   ]
  },
  {
   "cell_type": "code",
   "execution_count": 11,
   "metadata": {},
   "outputs": [
    {
     "name": "stdout",
     "output_type": "stream",
     "text": [
      "<class 'pandas.core.frame.DataFrame'>\n",
      "Int64Index: 10861 entries, 12 to 110482\n",
      "Data columns (total 17 columns):\n",
      "patientid          10861 non-null int64\n",
      "apptid             10861 non-null int64\n",
      "gender             10861 non-null object\n",
      "scheduledday       10861 non-null datetime64[ns]\n",
      "appointmentday     10861 non-null datetime64[ns]\n",
      "age                10861 non-null int64\n",
      "neighborhood       10861 non-null object\n",
      "scholarship        10861 non-null bool\n",
      "hypertension       10861 non-null bool\n",
      "diabetes           10861 non-null bool\n",
      "alcoholism         10861 non-null bool\n",
      "handicap           10861 non-null bool\n",
      "sms_received       10861 non-null bool\n",
      "show               10861 non-null object\n",
      "scheduledday1      10861 non-null object\n",
      "appointmentday1    10861 non-null object\n",
      "date_diff          10861 non-null float64\n",
      "dtypes: bool(6), datetime64[ns](2), float64(1), int64(3), object(5)\n",
      "memory usage: 1.1+ MB\n"
     ]
    }
   ],
   "source": [
    "# Filter for only bolsa familia (scholarship) families\n",
    "df1 = df.query('scholarship == True')\n",
    "df1.info()"
   ]
  },
  {
   "cell_type": "code",
   "execution_count": 12,
   "metadata": {},
   "outputs": [
    {
     "name": "stderr",
     "output_type": "stream",
     "text": [
      "/anaconda3/lib/python3.6/site-packages/numpy/core/fromnumeric.py:57: FutureWarning: reshape is deprecated and will raise in a subsequent release. Please use .values.reshape(...) instead\n",
      "  return getattr(obj, method)(*args, **kwds)\n"
     ]
    },
    {
     "data": {
      "image/png": "[encoded data removed]",
      "text/plain": [
       "<matplotlib.figure.Figure at 0x1a0ef777f0>"
      ]
     },
     "metadata": {},
     "output_type": "display_data"
    }
   ],
   "source": [
    "#plot histogram\n",
    "mp.pyplot.hist([df1.query('show == \"Yes\"')['date_diff'], df1.query('show == \"No\"')['date_diff']], color=['g','r'])\n",
    "pylab.legend()\n",
    "pylab.xlabel('Date Diff')\n",
    "pylab.ylabel('Frequency')\n",
    "pylab.title('Days Between Appointment Scheduled and Appointment Date')\n",
    "pylab.show()"
   ]
  },
  {
   "cell_type": "code",
   "execution_count": 13,
   "metadata": {},
   "outputs": [
    {
     "name": "stderr",
     "output_type": "stream",
     "text": [
      "/anaconda3/lib/python3.6/site-packages/numpy/core/fromnumeric.py:57: FutureWarning: reshape is deprecated and will raise in a subsequent release. Please use .values.reshape(...) instead\n",
      "  return getattr(obj, method)(*args, **kwds)\n"
     ]
    },
    {
     "data": {
      "image/png": "[encoded data removed]",
      "text/plain": [
       "<matplotlib.figure.Figure at 0x1a0b102ba8>"
      ]
     },
     "metadata": {},
     "output_type": "display_data"
    }
   ],
   "source": [
    "# This is great, but we want to get a lot more granular than this. \n",
    "a = df1.query('show == \"Yes\"')['date_diff']\n",
    "b = df1.query('show == \"No\"')['date_diff']\n",
    "mp.pyplot.hist([a, b], color=['g','r'], range = (0,80))\n",
    "pylab.legend()\n",
    "pylab.xlabel('Date Diff')\n",
    "pylab.ylabel('Frequency')\n",
    "pylab.title('Days Between Appointment Scheduled and Appointment Date')\n",
    "pylab.show()"
   ]
  },
  {
   "cell_type": "code",
   "execution_count": 14,
   "metadata": {},
   "outputs": [
    {
     "name": "stderr",
     "output_type": "stream",
     "text": [
      "/anaconda3/lib/python3.6/site-packages/numpy/core/fromnumeric.py:57: FutureWarning: reshape is deprecated and will raise in a subsequent release. Please use .values.reshape(...) instead\n",
      "  return getattr(obj, method)(*args, **kwds)\n"
     ]
    },
    {
     "data": {
      "image/png": "[encoded data removed]",
      "text/plain": [
       "<matplotlib.figure.Figure at 0x1a0a890320>"
      ]
     },
     "metadata": {},
     "output_type": "display_data"
    }
   ],
   "source": [
    "# Let's dig into the gap between 0-10\n",
    "mp.pyplot.hist([a, b], color=['g','r'], range = (0,10))\n",
    "pylab.legend()\n",
    "pylab.title('Days Between Appointment Scheduled and Appointment Date')\n",
    "pylab.ylabel('Frequency')\n",
    "pylab.xlabel('Date Diff')\n",
    "pylab.show()"
   ]
  },
  {
   "cell_type": "markdown",
   "metadata": {},
   "source": [
    "While overall we see that more Bolsa Familia families are no-shows to their doctor appointments, this is especially true for same-day appointments."
   ]
  },
  {
   "cell_type": "markdown",
   "metadata": {},
   "source": [
    "### Research Question 2: What is the appointment scheduling threshold that will make it most likely to their appointments for non-Bolsa Familia families?"
   ]
  },
  {
   "cell_type": "code",
   "execution_count": 15,
   "metadata": {},
   "outputs": [
    {
     "name": "stdout",
     "output_type": "stream",
     "text": [
      "<class 'pandas.core.frame.DataFrame'>\n",
      "Int64Index: 99666 entries, 0 to 110526\n",
      "Data columns (total 17 columns):\n",
      "patientid          99666 non-null int64\n",
      "apptid             99666 non-null int64\n",
      "gender             99666 non-null object\n",
      "scheduledday       99666 non-null datetime64[ns]\n",
      "appointmentday     99666 non-null datetime64[ns]\n",
      "age                99666 non-null int64\n",
      "neighborhood       99666 non-null object\n",
      "scholarship        99666 non-null bool\n",
      "hypertension       99666 non-null bool\n",
      "diabetes           99666 non-null bool\n",
      "alcoholism         99666 non-null bool\n",
      "handicap           99666 non-null bool\n",
      "sms_received       99666 non-null bool\n",
      "show               99666 non-null object\n",
      "scheduledday1      99666 non-null object\n",
      "appointmentday1    99666 non-null object\n",
      "date_diff          99666 non-null float64\n",
      "dtypes: bool(6), datetime64[ns](2), float64(1), int64(3), object(5)\n",
      "memory usage: 9.7+ MB\n"
     ]
    }
   ],
   "source": [
    "df2 = df.query('scholarship == False')\n",
    "df2.info()"
   ]
  },
  {
   "cell_type": "code",
   "execution_count": 16,
   "metadata": {},
   "outputs": [
    {
     "name": "stderr",
     "output_type": "stream",
     "text": [
      "/anaconda3/lib/python3.6/site-packages/numpy/core/fromnumeric.py:57: FutureWarning: reshape is deprecated and will raise in a subsequent release. Please use .values.reshape(...) instead\n",
      "  return getattr(obj, method)(*args, **kwds)\n"
     ]
    },
    {
     "data": {
      "image/png": "[encoded data removed]",
      "text/plain": [
       "<matplotlib.figure.Figure at 0x1a0b348c18>"
      ]
     },
     "metadata": {},
     "output_type": "display_data"
    }
   ],
   "source": [
    "a = df2.query('show == \"Yes\"')['date_diff']\n",
    "b = df2.query('show == \"No\"')['date_diff']\n",
    "mp.pyplot.hist([a , b], color=['g','r'])\n",
    "pylab.legend()\n",
    "pylab.title('Days Between Appointment Scheduled and Appointment Date')\n",
    "pylab.ylabel('Frequency')\n",
    "pylab.xlabel('Date Diff')\n",
    "pylab.show()"
   ]
  },
  {
   "cell_type": "code",
   "execution_count": 17,
   "metadata": {},
   "outputs": [
    {
     "name": "stderr",
     "output_type": "stream",
     "text": [
      "/anaconda3/lib/python3.6/site-packages/numpy/core/fromnumeric.py:57: FutureWarning: reshape is deprecated and will raise in a subsequent release. Please use .values.reshape(...) instead\n",
      "  return getattr(obj, method)(*args, **kwds)\n"
     ]
    },
    {
     "data": {
      "image/png": "[encoded data removed]",
      "text/plain": [
       "<matplotlib.figure.Figure at 0x1a0cef3518>"
      ]
     },
     "metadata": {},
     "output_type": "display_data"
    }
   ],
   "source": [
    "mp.pyplot.hist([a , b], color=['g','r'], range = (0,100))\n",
    "pylab.legend()\n",
    "pylab.xlabel('Date Diff')\n",
    "pylab.ylabel('Frequency')\n",
    "pylab.title('Days Between Appointment Scheduled and Appointment Date')\n",
    "pylab.show()"
   ]
  },
  {
   "cell_type": "code",
   "execution_count": 18,
   "metadata": {},
   "outputs": [
    {
     "name": "stderr",
     "output_type": "stream",
     "text": [
      "/anaconda3/lib/python3.6/site-packages/numpy/core/fromnumeric.py:57: FutureWarning: reshape is deprecated and will raise in a subsequent release. Please use .values.reshape(...) instead\n",
      "  return getattr(obj, method)(*args, **kwds)\n"
     ]
    },
    {
     "data": {
      "image/png": "[encoded data removed]",
      "text/plain": [
       "<matplotlib.figure.Figure at 0x1a0b23d7f0>"
      ]
     },
     "metadata": {},
     "output_type": "display_data"
    }
   ],
   "source": [
    "# No one shows up to appointments 80 days away. \n",
    "mp.pyplot.hist([a , b], color=['g','r'], range = (0,10))\n",
    "pylab.legend()\n",
    "pylab.xlabel('Date Diff')\n",
    "pylab.ylabel('Frequency')\n",
    "pylab.title('Days Between Appointment Scheduled and Appointment Date')\n",
    "pylab.show()"
   ]
  },
  {
   "cell_type": "markdown",
   "metadata": {},
   "source": [
    "## Research Question 3: Is diabetes more present in older folks? "
   ]
  },
  {
   "cell_type": "code",
   "execution_count": 19,
   "metadata": {},
   "outputs": [
    {
     "data": {
      "image/png": "[encoded data removed]",
      "text/plain": [
       "<matplotlib.figure.Figure at 0x1a0b4e3080>"
      ]
     },
     "metadata": {},
     "output_type": "display_data"
    }
   ],
   "source": [
    "mp.pyplot.scatter(df['age'], df['diabetes'], color=['r'])\n",
    "pylab.legend()\n",
    "pylab.xlabel('Age')\n",
    "pylab.ylabel('Presence of Diabetes')\n",
    "pylab.title('Diabetes & Age')\n",
    "pylab.show()"
   ]
  },
  {
   "cell_type": "markdown",
   "metadata": {},
   "source": [
    "We can see that there are far fewer individuals with diabetes under age 17 than there are older. \n",
    "\n",
    "## Research Question 4: At what age do we start seeing alcoholism?"
   ]
  },
  {
   "cell_type": "code",
   "execution_count": 20,
   "metadata": {},
   "outputs": [
    {
     "data": {
      "image/png": "[encoded data removed]",
      "text/plain": [
       "<matplotlib.figure.Figure at 0x1a0b23d588>"
      ]
     },
     "metadata": {},
     "output_type": "display_data"
    }
   ],
   "source": [
    "mp.pyplot.scatter(df['age'], df['alcoholism'], color=['g'])\n",
    "pylab.legend()\n",
    "pylab.xlabel('Age')\n",
    "pylab.ylabel('Presence of Alcoholism')\n",
    "pylab.title('Alcoholism & Age')\n",
    "pylab.show()"
   ]
  },
  {
   "cell_type": "markdown",
   "metadata": {},
   "source": [
    "Alcoholics are not at the age extremes of the dataset, likely because they don't start drinking as children and don't live to be as old as their non-alcoholic peers. "
   ]
  },
  {
   "cell_type": "markdown",
   "metadata": {},
   "source": [
    "## Research Question 5: What are the No-Show counts by Booking Duration?"
   ]
  },
  {
   "cell_type": "code",
   "execution_count": 21,
   "metadata": {},
   "outputs": [
    {
     "data": {
      "text/plain": [
       "Text(0.5,0,'Booking Duration in Hours')"
      ]
     },
     "execution_count": 21,
     "metadata": {},
     "output_type": "execute_result"
    },
    {
     "data": {
      "image/png": "[encoded data removed]",
      "text/plain": [
       "<matplotlib.figure.Figure at 0x1a0e65b4e0>"
      ]
     },
     "metadata": {},
     "output_type": "display_data"
    }
   ],
   "source": [
    "temp_data = df_orig\n",
    "temp_data['No-show'] = temp_data['No-show'].map({'Yes' : 'No-show', 'No' : 'Showed'})\n",
    "def convert_date(x):\n",
    "    return datetime.datetime.strptime(x, '%Y-%m-%dT%H:%M:%SZ') # we translate the string for python\n",
    "# Convert both date variables to a datetime object in order to perform arithmatic operations easily\n",
    "temp_data.ScheduledDay = temp_data.ScheduledDay.apply(convert_date)\n",
    "temp_data.AppointmentDay = temp_data.AppointmentDay.apply(convert_date)\n",
    "temp_data['BookingDuration'] = temp_data.AppointmentDay-temp_data.ScheduledDay # Calculate duration\n",
    "# Convert Duration into hour proportions \n",
    "temp_data['BookingDuration'] = temp_data['BookingDuration'].apply(lambda x:x.seconds/60/60)\n",
    "# After looking at temp_data['BookingDuration'].describe()\n",
    "# you can see that the max duration is 17.84 and min is 2.54 so we will bin 16 spots for plotting\n",
    "temp_data['BookingDuration'] = pd.cut(temp_data['BookingDuration'], \n",
    "                                      [i for i in range(2, 19)], \n",
    "                                      labels = ['~{}'.format(i) for i in range(2, 18)])\n",
    "temp_data.groupby('BookingDuration')['No-show'].value_counts().unstack().plot(kind = 'bar', rot = 0)\n",
    "pylab.title('No-Show counts by Booking Duration (hours)')\n",
    "pylab.ylabel('Counts')\n",
    "pylab.xlabel('Booking Duration in Hours')"
   ]
  },
  {
   "cell_type": "markdown",
   "metadata": {},
   "source": [
    "## Research Question 6: What are the No-Show Rate by Booking Duration?"
   ]
  },
  {
   "cell_type": "code",
   "execution_count": 22,
   "metadata": {},
   "outputs": [
    {
     "data": {
      "text/plain": [
       "Text(0.5,0,'Booking Duration in Hours')"
      ]
     },
     "execution_count": 22,
     "metadata": {},
     "output_type": "execute_result"
    },
    {
     "data": {
      "image/png": "[encoded data removed]",
      "text/plain": [
       "<matplotlib.figure.Figure at 0x1a0b4e7c88>"
      ]
     },
     "metadata": {},
     "output_type": "display_data"
    }
   ],
   "source": [
    "# normalize=True creates the proportions and then we just choose 'No-show' to get the no-show rate\n",
    "temp_data.groupby('BookingDuration')['No-show'].value_counts(normalize = True).unstack()['No-show'].plot(kind = 'bar')\n",
    "pylab.title('No-Show Rate by Booking Duration (hours)')\n",
    "pylab.ylabel('Rate')\n",
    "pylab.xlabel('Booking Duration in Hours')\n"
   ]
  },
  {
   "cell_type": "markdown",
   "metadata": {},
   "source": [
    "<a id='conclusions'></a>\n",
    "## Conclusions\n",
    "\n",
    "No one shows up to doctor appointments that are more than 80 days away. In general, we see that people are scheduling appointments further out that Bolsa Familia families (sometimes as high as 100 days away), though those have very, very high no-show rates.  We can see that the BULK of same day appointments across scholarship recipients and non-recipients are no-show. This likely is correlated with the fact that the bulk of the scheduled appointments ARE same day appointments. \n",
    "\n",
    "The biggest concern with this data set is the limited sample size. "
   ]
  }
 ],
 "metadata": {
  "kernelspec": {
   "display_name": "Python [default]",
   "language": "python",
   "name": "python3"
  },
  "language_info": {
   "codemirror_mode": {
    "name": "ipython",
    "version": 3
   },
   "file_extension": ".py",
   "mimetype": "text/x-python",
   "name": "python",
   "nbconvert_exporter": "python",
   "pygments_lexer": "ipython3",
   "version": "3.6.3"
  }
 },
 "nbformat": 4,
 "nbformat_minor": 2
}
